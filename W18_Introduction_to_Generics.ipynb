{
 "cells": [
  {
   "cell_type": "markdown",
   "id": "e095cd9c-fc3f-490c-976a-5b8d133f6fc2",
   "metadata": {},
   "source": [
    "# Introduction to Generics\n",
    "\n",
    "## What is generics in Java\n"
   ]
  },
  {
   "cell_type": "code",
   "execution_count": 2,
   "id": "26876f24-b475-4895-9246-fcb9839415b3",
   "metadata": {},
   "outputs": [
    {
     "name": "stdout",
     "output_type": "stream",
     "text": [
      "hello world!\n"
     ]
    }
   ],
   "source": [
    "System.out.println(\"hello world!\");"
   ]
  }
 ],
 "metadata": {
  "kernelspec": {
   "display_name": "Java",
   "language": "java",
   "name": "java"
  },
  "language_info": {
   "codemirror_mode": "java",
   "file_extension": ".jshell",
   "mimetype": "text/x-java-source",
   "name": "Java",
   "pygments_lexer": "java",
   "version": "21.0.1+12-LTS"
  }
 },
 "nbformat": 4,
 "nbformat_minor": 5
}
