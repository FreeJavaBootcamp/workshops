{
 "cells": [
  {
   "cell_type": "markdown",
   "id": "b8aefc61-26d2-4aa0-8ac1-55fd52a4febd",
   "metadata": {},
   "source": [
    "# Free Java Bootcamp  |  Workshop 19\n",
    "![logo.png](attachment:eace2fc8-8529-4342-8783-20ea0db7f887.png)\n",
    "# Introduction to Collections\n",
    "\n",
    "Welcome to this workshop on the Java Collections Framework! Here, we will explore the world of collections and discover how they can simplify your work and improve your programs. Throughout this workshop, we will cover the fundamental components of the Java Collections Framework, including interfaces, implementations, aggregate operations, and algorithms. By the end of this workshop, you will have a solid grasp of how to leverage collections effectively in your Java projects. Let's embark on this exciting journey together!\n",
    "\n",
    "## Learning Goals"
   ]
  },
  {
   "cell_type": "code",
   "execution_count": null,
   "id": "42972dfc-1c87-47e9-9155-ba55cf739b75",
   "metadata": {},
   "outputs": [],
   "source": []
  }
 ],
 "metadata": {
  "kernelspec": {
   "display_name": "Java",
   "language": "java",
   "name": "java"
  },
  "language_info": {
   "codemirror_mode": "java",
   "file_extension": ".jshell",
   "mimetype": "text/x-java-source",
   "name": "Java",
   "pygments_lexer": "java",
   "version": "21.0.1+12-LTS"
  }
 },
 "nbformat": 4,
 "nbformat_minor": 5
}
